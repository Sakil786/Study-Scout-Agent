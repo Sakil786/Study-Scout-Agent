{
  "nbformat": 4,
  "nbformat_minor": 0,
  "metadata": {
    "colab": {
      "provenance": []
    },
    "kernelspec": {
      "name": "python3",
      "display_name": "Python 3"
    },
    "language_info": {
      "name": "python"
    }
  },
  "cells": [
    {
      "cell_type": "code",
      "execution_count": null,
      "metadata": {
        "id": "wHJxuvBpfFbN"
      },
      "outputs": [],
      "source": [
        "! pip install -U phidata\n",
        "!pip install groq\n",
        "!pip install duckduckgo-search\n",
        "! pip install newspaper4k lxml_html_clean\n",
        "!pip install youtube_transcript_api\n",
        "!pip install exa_py"
      ]
    },
    {
      "cell_type": "code",
      "source": [
        "from phi.agent import Agent\n",
        "# from phi.model.openai import OpenAIChat\n",
        "from phi.tools.youtube_tools import YouTubeTools\n",
        "from phi.tools.exa import ExaTools\n",
        "from phi.agent import Agent\n",
        "from phi.model.groq import Groq\n",
        "from dotenv import load_dotenv"
      ],
      "metadata": {
        "id": "L6wYAr57fWrj"
      },
      "execution_count": 2,
      "outputs": []
    },
    {
      "cell_type": "code",
      "source": [
        "load_dotenv()"
      ],
      "metadata": {
        "colab": {
          "base_uri": "https://localhost:8080/"
        },
        "id": "6U6DSUVyf6ka",
        "outputId": "0bdb457a-2ac4-4ca2-c3f3-d5068e1812a6"
      },
      "execution_count": 3,
      "outputs": [
        {
          "output_type": "execute_result",
          "data": {
            "text/plain": [
              "True"
            ]
          },
          "metadata": {},
          "execution_count": 3
        }
      ]
    },
    {
      "cell_type": "code",
      "source": [
        "from phi.agent import Agent\n",
        "# from phi.model.openai import OpenAIChat\n",
        "from phi.tools.youtube_tools import YouTubeTools\n",
        "from phi.tools.exa import ExaTools\n",
        "\n",
        "study_partner = Agent(\n",
        "    name=\"StudyScout\",\n",
        "    model=Groq(id=\"llama-3.3-70b-versatile\"),\n",
        "    tools=[ExaTools(), YouTubeTools()],\n",
        "    markdown=True,\n",
        "    description=\"You are a study partner who assists users in finding resources, answering questions, and providing explanations on various topics.\",\n",
        "    instructions=[\n",
        "        \"Use Exa to search for relevant information on the given topic and verify information from multiple reliable sources.\",\n",
        "        \"Break down complex topics into digestible chunks and provide step-by-step explanations with practical examples.\",\n",
        "        \"Share curated learning resources including documentation, tutorials, articles, research papers, and community discussions.\",\n",
        "        \"Recommend high-quality YouTube videos and online courses that match the user's learning style and proficiency level.\",\n",
        "        \"Suggest hands-on projects and exercises to reinforce learning, ranging from beginner to advanced difficulty.\",\n",
        "        \"Create personalized study plans with clear milestones, deadlines, and progress tracking.\",\n",
        "        \"Provide tips for effective learning techniques, time management, and maintaining motivation.\",\n",
        "        \"Recommend relevant communities, forums, and study groups for peer learning and networking.\",\n",
        "    ],\n",
        ")\n",
        "study_partner.print_response(\n",
        "    \"I want to learn about Data Science  in depth. I know the basics, have 2 weeks to learn, and can spend 3 hours daily. Please share some resources and a study plan.\",\n",
        "    stream=True,\n",
        ")\n"
      ],
      "metadata": {
        "colab": {
          "base_uri": "https://localhost:8080/"
        },
        "id": "Ls4v2XUhf8yE",
        "outputId": "e2a5ae87-0a91-412e-b9f0-0b5109f97ea2"
      },
      "execution_count": 8,
      "outputs": [
        {
          "output_type": "stream",
          "name": "stdout",
          "text": [
            "┏━ Message ━━━━━━━━━━━━━━━━━━━━━━━━━━━━━━━━━━━━━━━━━━━━━━━━━━━━━━━━━━━━━━━━━━━━━━━━━━━━━━━━━━━━━━━━┓\n",
            "┃                                                                                                  ┃\n",
            "┃ I want to learn about Data Science  in depth. I know the basics, have 2 weeks to learn, and can  ┃\n",
            "┃ spend 3 hours daily. Please share some resources and a study plan.                               ┃\n",
            "┃                                                                                                  ┃\n",
            "┗━━━━━━━━━━━━━━━━━━━━━━━━━━━━━━━━━━━━━━━━━━━━━━━━━━━━━━━━━━━━━━━━━━━━━━━━━━━━━━━━━━━━━━━━━━━━━━━━━━┛\n",
            "┏━ Response (4.2s) ━━━━━━━━━━━━━━━━━━━━━━━━━━━━━━━━━━━━━━━━━━━━━━━━━━━━━━━━━━━━━━━━━━━━━━━━━━━━━━━━┓\n",
            "┃                                                                                                  ┃\n",
            "┃ To create a study plan for learning Data Science in-depth, we'll break down the subject into key ┃\n",
            "┃ areas and allocate time for each topic. Given your 2-week timeframe and 3 hours daily            ┃\n",
            "┃ commitment, we'll prioritize the most important concepts and provide resources for further       ┃\n",
            "┃ learning.                                                                                        ┃\n",
            "┃                                                                                                  ┃\n",
            "┃                           Week 1: Fundamentals and Data Preprocessing                            ┃\n",
            "┃                                                                                                  ┃\n",
            "┃  • Day 1-2: Review of Python fundamentals, introduction to Pandas, NumPy, and Matplotlib         ┃\n",
            "┃     • Resource: Python Data Science Handbook (Chapters 1-3)                                      ┃\n",
            "┃     • Exercise: Practice using Pandas for data manipulation and visualization                    ┃\n",
            "┃  • Day 3-4: Data preprocessing, handling missing values, and data normalization                  ┃\n",
            "┃     • Resource: Data Preprocessing Tutorial                                                      ┃\n",
            "┃     • Exercise: Work on a project to preprocess a sample dataset                                 ┃\n",
            "┃  • Day 5-6: Introduction to machine learning, supervised and unsupervised learning               ┃\n",
            "┃     • Resource: Scikit-learn Tutorial                                                            ┃\n",
            "┃     • Exercise: Implement a simple machine learning model using Scikit-learn                     ┃\n",
            "┃  • Day 7: Introduction to deep learning, neural networks, and TensorFlow/Keras                   ┃\n",
            "┃     • Resource: TensorFlow Tutorial                                                              ┃\n",
            "┃     • Exercise: Build a simple neural network using TensorFlow/Keras                             ┃\n",
            "┃                                                                                                  ┃\n",
            "┃                               Week 2: Advanced Topics and Practice                               ┃\n",
            "┃                                                                                                  ┃\n",
            "┃  • Day 8-9: Advanced machine learning topics, ensemble methods, and model selection              ┃\n",
            "┃     • Resource: Advanced Machine Learning Tutorial                                               ┃\n",
            "┃     • Exercise: Work on a project to implement ensemble methods and model selection              ┃\n",
            "┃  • Day 10-11: Introduction to natural language processing, text preprocessing, and word          ┃\n",
            "┃    embeddings                                                                                    ┃\n",
            "┃     • Resource: NLTK Tutorial                                                                    ┃\n",
            "┃     • Exercise: Practice text preprocessing and word embedding using NLTK and Gensim             ┃\n",
            "┃  • Day 12-13: Introduction to computer vision, image processing, and convolutional neural        ┃\n",
            "┃    networks                                                                                      ┃\n",
            "┃     • Resource: OpenCV Tutorial                                                                  ┃\n",
            "┃     • Exercise: Implement a simple computer vision project using OpenCV and TensorFlow/Keras     ┃\n",
            "┃  • Day 14: Review, practice, and work on a final project that integrates all the concepts        ┃\n",
            "┃    learned                                                                                       ┃\n",
            "┃                                                                                                  ┃\n",
            "┃                                       Additional Resources                                       ┃\n",
            "┃                                                                                                  ┃\n",
            "┃  • Online Courses:                                                                               ┃\n",
            "┃     • Data Science Specialization on Coursera                                                    ┃\n",
            "┃     • Data Science with Python and R on DataCamp                                                 ┃\n",
            "┃  • Books:                                                                                        ┃\n",
            "┃     • Python Data Science Handbook                                                               ┃\n",
            "┃     • Hands-On Machine Learning with Scikit-Learn, Keras, and TensorFlow                         ┃\n",
            "┃  • Communities:                                                                                  ┃\n",
            "┃     • Kaggle                                                                                     ┃\n",
            "┃     • Reddit - r/MachineLearning                                                                 ┃\n",
            "┃                                                                                                  ┃\n",
            "┃                                     Tips and Recommendations                                     ┃\n",
            "┃                                                                                                  ┃\n",
            "┃  • Practice regularly and work on projects to reinforce your learning                            ┃\n",
            "┃  • Join online communities and forums to stay updated and get help when needed                   ┃\n",
            "┃  • Use version control (e.g., Git) to manage your projects and collaborate with others           ┃\n",
            "┃  • Read research papers and articles to stay current with the latest developments in Data        ┃\n",
            "┃    Science                                                                                       ┃\n",
            "┃  • Consider participating in Kaggle competitions to practice and learn from others               ┃\n",
            "┃                                                                                                  ┃\n",
            "┃ By following this study plan and utilizing the provided resources, you'll be well on your way to ┃\n",
            "┃ gaining a deeper understanding of Data Science and its applications. Remember to stay motivated, ┃\n",
            "┃ practice regularly, and have fun learning!                                                       ┃\n",
            "┃                                                                                                  ┃\n",
            "┗━━━━━━━━━━━━━━━━━━━━━━━━━━━━━━━━━━━━━━━━━━━━━━━━━━━━━━━━━━━━━━━━━━━━━━━━━━━━━━━━━━━━━━━━━━━━━━━━━━┛"
          ]
        }
      ]
    },
    {
      "cell_type": "code",
      "source": [],
      "metadata": {
        "id": "BEtVynV_gBZE"
      },
      "execution_count": null,
      "outputs": []
    }
  ]
}